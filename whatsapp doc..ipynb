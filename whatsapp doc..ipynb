{
 "cells": [
  {
   "cell_type": "code",
   "execution_count": 1,
   "id": "b337527a",
   "metadata": {},
   "outputs": [],
   "source": [
    "#import libraries\n",
    "import pandas as pd\n",
    "import pushbullet\n",
    "import re\n",
    "import matplotlib\n",
    "import matplotlib.pyplot as plt\n",
    "import seaborn as sns\n",
    "%matplotlib inline"
   ]
  },
  {
   "cell_type": "code",
   "execution_count": 2,
   "id": "6e6dd934",
   "metadata": {},
   "outputs": [
    {
     "name": "stdout",
     "output_type": "stream",
     "text": [
      "Requirement already satisfied: pushbullet.py in c:\\users\\pc\\anaconda3\\lib\\site-packages (0.12.0)\n",
      "Requirement already satisfied: websocket-client>=0.53.0 in c:\\users\\pc\\anaconda3\\lib\\site-packages (from pushbullet.py) (0.58.0)\n",
      "Requirement already satisfied: python-magic in c:\\users\\pc\\anaconda3\\lib\\site-packages (from pushbullet.py) (0.4.27)\n",
      "Requirement already satisfied: requests>=1.0.0 in c:\\users\\pc\\anaconda3\\lib\\site-packages (from pushbullet.py) (2.27.1)\n",
      "Requirement already satisfied: certifi>=2017.4.17 in c:\\users\\pc\\anaconda3\\lib\\site-packages (from requests>=1.0.0->pushbullet.py) (2021.10.8)\n",
      "Requirement already satisfied: urllib3<1.27,>=1.21.1 in c:\\users\\pc\\anaconda3\\lib\\site-packages (from requests>=1.0.0->pushbullet.py) (1.26.9)\n",
      "Requirement already satisfied: idna<4,>=2.5 in c:\\users\\pc\\anaconda3\\lib\\site-packages (from requests>=1.0.0->pushbullet.py) (3.3)\n",
      "Requirement already satisfied: charset-normalizer~=2.0.0 in c:\\users\\pc\\anaconda3\\lib\\site-packages (from requests>=1.0.0->pushbullet.py) (2.0.4)\n",
      "Requirement already satisfied: six in c:\\users\\pc\\anaconda3\\lib\\site-packages (from websocket-client>=0.53.0->pushbullet.py) (1.16.0)\n",
      "Note: you may need to restart the kernel to use updated packages.\n"
     ]
    }
   ],
   "source": [
    "pip install pushbullet.py"
   ]
  },
  {
   "cell_type": "code",
   "execution_count": 3,
   "id": "9a1fa370",
   "metadata": {},
   "outputs": [],
   "source": [
    "pb = pushbullet.Pushbullet(\"o.UNlF6TUofeQgKFGooASh2KsjeZZq43Ma\")"
   ]
  },
  {
   "cell_type": "code",
   "execution_count": 4,
   "id": "0943672b",
   "metadata": {},
   "outputs": [],
   "source": [
    "pushes=pb.get_pushes()"
   ]
  },
  {
   "cell_type": "code",
   "execution_count": 5,
   "id": "51fd09b0",
   "metadata": {},
   "outputs": [],
   "source": [
    "latest=pushes[0]"
   ]
  },
  {
   "cell_type": "code",
   "execution_count": 6,
   "id": "1a719265",
   "metadata": {},
   "outputs": [],
   "source": [
    "url=latest[\"file_url\"]"
   ]
  },
  {
   "cell_type": "code",
   "execution_count": 7,
   "id": "c48147fe",
   "metadata": {},
   "outputs": [],
   "source": [
    "file_path=\"coordinators chat.txt.txt\""
   ]
  },
  {
   "cell_type": "code",
   "execution_count": 8,
   "id": "0ba956a0",
   "metadata": {},
   "outputs": [],
   "source": [
    "with open(file_path,mode=\"r\",encoding=\"utf8\") as f:\n",
    "    data=f.readlines()"
   ]
  },
  {
   "cell_type": "code",
   "execution_count": 27,
   "id": "b4691e50",
   "metadata": {},
   "outputs": [
    {
     "ename": "AttributeError",
     "evalue": "'list' object has no attribute 'head'",
     "output_type": "error",
     "traceback": [
      "\u001b[1;31m---------------------------------------------------------------------------\u001b[0m",
      "\u001b[1;31mAttributeError\u001b[0m                            Traceback (most recent call last)",
      "Input \u001b[1;32mIn [27]\u001b[0m, in \u001b[0;36m<cell line: 1>\u001b[1;34m()\u001b[0m\n\u001b[1;32m----> 1\u001b[0m \u001b[43mdata\u001b[49m\u001b[38;5;241;43m.\u001b[39;49m\u001b[43mhead\u001b[49m()\n",
      "\u001b[1;31mAttributeError\u001b[0m: 'list' object has no attribute 'head'"
     ]
    }
   ],
   "source": [
    "data.head()"
   ]
  },
  {
   "cell_type": "code",
   "execution_count": 10,
   "id": "1051c5f3",
   "metadata": {},
   "outputs": [
    {
     "data": {
      "text/plain": [
       "'11/21/22, 10:44 AM - Bro Shado added Bro vincent\\n'"
      ]
     },
     "execution_count": 10,
     "metadata": {},
     "output_type": "execute_result"
    }
   ],
   "source": [
    "data[2]"
   ]
  },
  {
   "cell_type": "code",
   "execution_count": 11,
   "id": "e29d10f6",
   "metadata": {},
   "outputs": [],
   "source": [
    "date_pattern = r\"^\\d{1,2}/\\d{1,2}/\\d{2,4}\"\n",
    "time_pattern = r\"\\d{1,2}:\\d{2}\\s[AP]M\"\n",
    "name_pattern = r\"(?<=- )(.*?)(?=:)\"\n",
    "message_pattern = r\"(?<=: )(.*)(?=\\n)\""
   ]
  },
  {
   "cell_type": "code",
   "execution_count": 12,
   "id": "0732bb49",
   "metadata": {},
   "outputs": [],
   "source": [
    "# Lists to store the extracted data\n",
    "dates = []\n",
    "times = []\n",
    "names = []\n",
    "messages = []"
   ]
  },
  {
   "cell_type": "code",
   "execution_count": 13,
   "id": "c9829073",
   "metadata": {},
   "outputs": [],
   "source": [
    "# Loop through the lines of the WhatsApp chat and extract the relevant information\n",
    "for line in data:\n",
    "    date_match = re.search(date_pattern, line)\n",
    "    time_match = re.search(time_pattern, line)\n",
    "    name_match = re.search(name_pattern, line)\n",
    "    message_match = re.search(message_pattern, line)\n",
    "\n",
    "    if date_match and time_match and name_match and message_match:\n",
    "        dates.append(date_match.group())\n",
    "        times.append(time_match.group())\n",
    "        names.append(name_match.group())\n",
    "        messages.append(message_match.group())"
   ]
  },
  {
   "cell_type": "code",
   "execution_count": 14,
   "id": "fe73620e",
   "metadata": {},
   "outputs": [
    {
     "data": {
      "text/plain": [
       "645"
      ]
     },
     "execution_count": 14,
     "metadata": {},
     "output_type": "execute_result"
    }
   ],
   "source": [
    "len(messages)"
   ]
  },
  {
   "cell_type": "code",
   "execution_count": 15,
   "id": "5e348b98",
   "metadata": {},
   "outputs": [],
   "source": [
    "# Create a pandas DataFrame from the extracted data\n",
    "df = pd.DataFrame({\n",
    "    \"Date\": dates,\n",
    "    \"Time\": times,\n",
    "    \"Name\": names,\n",
    "    \"Message\": messages\n",
    "})"
   ]
  },
  {
   "cell_type": "code",
   "execution_count": 16,
   "id": "6ca1c6b7",
   "metadata": {},
   "outputs": [
    {
     "data": {
      "text/html": [
       "<div>\n",
       "<style scoped>\n",
       "    .dataframe tbody tr th:only-of-type {\n",
       "        vertical-align: middle;\n",
       "    }\n",
       "\n",
       "    .dataframe tbody tr th {\n",
       "        vertical-align: top;\n",
       "    }\n",
       "\n",
       "    .dataframe thead th {\n",
       "        text-align: right;\n",
       "    }\n",
       "</style>\n",
       "<table border=\"1\" class=\"dataframe\">\n",
       "  <thead>\n",
       "    <tr style=\"text-align: right;\">\n",
       "      <th></th>\n",
       "      <th>Date</th>\n",
       "      <th>Time</th>\n",
       "      <th>Name</th>\n",
       "      <th>Message</th>\n",
       "    </tr>\n",
       "  </thead>\n",
       "  <tbody>\n",
       "    <tr>\n",
       "      <th>0</th>\n",
       "      <td>12/6/22</td>\n",
       "      <td>1:18 PM</td>\n",
       "      <td>Bro Shado</td>\n",
       "      <td>&lt;Media omitted&gt;</td>\n",
       "    </tr>\n",
       "    <tr>\n",
       "      <th>1</th>\n",
       "      <td>12/9/22</td>\n",
       "      <td>2:49 AM</td>\n",
       "      <td>Bro Shado</td>\n",
       "      <td>*SUGGESTIONS FOR THE GET TOGETHER*</td>\n",
       "    </tr>\n",
       "    <tr>\n",
       "      <th>2</th>\n",
       "      <td>12/9/22</td>\n",
       "      <td>2:50 AM</td>\n",
       "      <td>Bro Shado</td>\n",
       "      <td>@2348137297591 please send in the proposed top...</td>\n",
       "    </tr>\n",
       "    <tr>\n",
       "      <th>3</th>\n",
       "      <td>12/9/22</td>\n",
       "      <td>2:50 AM</td>\n",
       "      <td>Bro Shado</td>\n",
       "      <td>The graphic team are anxiously waiting 😁</td>\n",
       "    </tr>\n",
       "    <tr>\n",
       "      <th>4</th>\n",
       "      <td>12/9/22</td>\n",
       "      <td>9:05 AM</td>\n",
       "      <td>Bro vincent</td>\n",
       "      <td>Oh, Good morning everyone</td>\n",
       "    </tr>\n",
       "    <tr>\n",
       "      <th>...</th>\n",
       "      <td>...</td>\n",
       "      <td>...</td>\n",
       "      <td>...</td>\n",
       "      <td>...</td>\n",
       "    </tr>\n",
       "    <tr>\n",
       "      <th>640</th>\n",
       "      <td>2/20/23</td>\n",
       "      <td>9:01 PM</td>\n",
       "      <td>Bro Shado</td>\n",
       "      <td>&lt;Media omitted&gt;</td>\n",
       "    </tr>\n",
       "    <tr>\n",
       "      <th>641</th>\n",
       "      <td>2/20/23</td>\n",
       "      <td>9:02 PM</td>\n",
       "      <td>Bro Shado</td>\n",
       "      <td>@2348106608611 I can sight you oo 😁, you wan r...</td>\n",
       "    </tr>\n",
       "    <tr>\n",
       "      <th>642</th>\n",
       "      <td>2/20/23</td>\n",
       "      <td>9:05 PM</td>\n",
       "      <td>Sis Abimbola</td>\n",
       "      <td>🤣😂😂😂😂</td>\n",
       "    </tr>\n",
       "    <tr>\n",
       "      <th>643</th>\n",
       "      <td>2/20/23</td>\n",
       "      <td>9:08 PM</td>\n",
       "      <td>Sis Abimbola</td>\n",
       "      <td>Ok sir</td>\n",
       "    </tr>\n",
       "    <tr>\n",
       "      <th>644</th>\n",
       "      <td>2/21/23</td>\n",
       "      <td>3:47 AM</td>\n",
       "      <td>Bro vincent</td>\n",
       "      <td>&lt;Media omitted&gt;</td>\n",
       "    </tr>\n",
       "  </tbody>\n",
       "</table>\n",
       "<p>645 rows × 4 columns</p>\n",
       "</div>"
      ],
      "text/plain": [
       "        Date     Time          Name  \\\n",
       "0    12/6/22  1:18 PM     Bro Shado   \n",
       "1    12/9/22  2:49 AM     Bro Shado   \n",
       "2    12/9/22  2:50 AM     Bro Shado   \n",
       "3    12/9/22  2:50 AM     Bro Shado   \n",
       "4    12/9/22  9:05 AM   Bro vincent   \n",
       "..       ...      ...           ...   \n",
       "640  2/20/23  9:01 PM     Bro Shado   \n",
       "641  2/20/23  9:02 PM     Bro Shado   \n",
       "642  2/20/23  9:05 PM  Sis Abimbola   \n",
       "643  2/20/23  9:08 PM  Sis Abimbola   \n",
       "644  2/21/23  3:47 AM   Bro vincent   \n",
       "\n",
       "                                               Message  \n",
       "0                                      <Media omitted>  \n",
       "1                   *SUGGESTIONS FOR THE GET TOGETHER*  \n",
       "2    @2348137297591 please send in the proposed top...  \n",
       "3             The graphic team are anxiously waiting 😁  \n",
       "4                           Oh, Good morning everyone   \n",
       "..                                                 ...  \n",
       "640                                    <Media omitted>  \n",
       "641  @2348106608611 I can sight you oo 😁, you wan r...  \n",
       "642                                              🤣😂😂😂😂  \n",
       "643                                             Ok sir  \n",
       "644                                    <Media omitted>  \n",
       "\n",
       "[645 rows x 4 columns]"
      ]
     },
     "execution_count": 16,
     "metadata": {},
     "output_type": "execute_result"
    }
   ],
   "source": [
    "df"
   ]
  },
  {
   "cell_type": "code",
   "execution_count": 17,
   "id": "cc2e74ac",
   "metadata": {},
   "outputs": [],
   "source": [
    "#lets define a function to remove emojis\n",
    "def remove_emoji(text):\n",
    "    # Emoji ranges for common emojis\n",
    "    emoji_pattern = re.compile(\"[\"\n",
    "        u\"\\U0001F600-\\U0001F64F\"  # emoticons\n",
    "        u\"\\U0001F300-\\U0001F5FF\"  # symbols & pictographs\n",
    "        u\"\\U0001F680-\\U0001F6FF\"  # transport & map symbols\n",
    "        u\"\\U0001F1E0-\\U0001F1FF\"  # flags (iOS)\n",
    "        u\"\\U0001F910-\\U0001F95F\"  # emojis with accessories\n",
    "        u\"\\U0001F980-\\U0001F9FF\"  # food, animals, and plants\n",
    "        u\"\\U0001F1F2-\\U0001F1F4\"  # flag emojis\n",
    "        u\"\\U0001F1E6-\\U0001F1FF\"  # flag emojis\n",
    "        u\"\\U0001F600-\\U0001F64F\"  # emoticons\n",
    "        u\"\\U00002702-\\U000027B0\"  # other emoticons\n",
    "        u\"\\U000024C2-\\U0001F251\" \n",
    "                           \"]+\", flags=re.UNICODE)\n",
    "    return emoji_pattern.sub(r'', text)"
   ]
  },
  {
   "cell_type": "code",
   "execution_count": 18,
   "id": "8bd763a6",
   "metadata": {},
   "outputs": [],
   "source": [
    "df['Message'] = df['Message'].apply(remove_emoji)#apply the emoji funtion"
   ]
  },
  {
   "cell_type": "code",
   "execution_count": 19,
   "id": "929d1e43",
   "metadata": {},
   "outputs": [
    {
     "data": {
      "text/html": [
       "<div>\n",
       "<style scoped>\n",
       "    .dataframe tbody tr th:only-of-type {\n",
       "        vertical-align: middle;\n",
       "    }\n",
       "\n",
       "    .dataframe tbody tr th {\n",
       "        vertical-align: top;\n",
       "    }\n",
       "\n",
       "    .dataframe thead th {\n",
       "        text-align: right;\n",
       "    }\n",
       "</style>\n",
       "<table border=\"1\" class=\"dataframe\">\n",
       "  <thead>\n",
       "    <tr style=\"text-align: right;\">\n",
       "      <th></th>\n",
       "      <th>Date</th>\n",
       "      <th>Time</th>\n",
       "      <th>Name</th>\n",
       "      <th>Message</th>\n",
       "    </tr>\n",
       "  </thead>\n",
       "  <tbody>\n",
       "    <tr>\n",
       "      <th>0</th>\n",
       "      <td>12/6/22</td>\n",
       "      <td>1:18 PM</td>\n",
       "      <td>Bro Shado</td>\n",
       "      <td>&lt;Media omitted&gt;</td>\n",
       "    </tr>\n",
       "    <tr>\n",
       "      <th>1</th>\n",
       "      <td>12/9/22</td>\n",
       "      <td>2:49 AM</td>\n",
       "      <td>Bro Shado</td>\n",
       "      <td>*SUGGESTIONS FOR THE GET TOGETHER*</td>\n",
       "    </tr>\n",
       "    <tr>\n",
       "      <th>2</th>\n",
       "      <td>12/9/22</td>\n",
       "      <td>2:50 AM</td>\n",
       "      <td>Bro Shado</td>\n",
       "      <td>@2348137297591 please send in the proposed top...</td>\n",
       "    </tr>\n",
       "    <tr>\n",
       "      <th>3</th>\n",
       "      <td>12/9/22</td>\n",
       "      <td>2:50 AM</td>\n",
       "      <td>Bro Shado</td>\n",
       "      <td>The graphic team are anxiously waiting</td>\n",
       "    </tr>\n",
       "    <tr>\n",
       "      <th>4</th>\n",
       "      <td>12/9/22</td>\n",
       "      <td>9:05 AM</td>\n",
       "      <td>Bro vincent</td>\n",
       "      <td>Oh, Good morning everyone</td>\n",
       "    </tr>\n",
       "  </tbody>\n",
       "</table>\n",
       "</div>"
      ],
      "text/plain": [
       "      Date     Time         Name  \\\n",
       "0  12/6/22  1:18 PM    Bro Shado   \n",
       "1  12/9/22  2:49 AM    Bro Shado   \n",
       "2  12/9/22  2:50 AM    Bro Shado   \n",
       "3  12/9/22  2:50 AM    Bro Shado   \n",
       "4  12/9/22  9:05 AM  Bro vincent   \n",
       "\n",
       "                                             Message  \n",
       "0                                    <Media omitted>  \n",
       "1                 *SUGGESTIONS FOR THE GET TOGETHER*  \n",
       "2  @2348137297591 please send in the proposed top...  \n",
       "3            The graphic team are anxiously waiting   \n",
       "4                         Oh, Good morning everyone   "
      ]
     },
     "execution_count": 19,
     "metadata": {},
     "output_type": "execute_result"
    }
   ],
   "source": [
    "df.head()"
   ]
  },
  {
   "cell_type": "code",
   "execution_count": 20,
   "id": "3ad0c569",
   "metadata": {},
   "outputs": [],
   "source": [
    "df = df.drop(df[df[\"Message\"] == \"<Media omitted>\"].index)"
   ]
  },
  {
   "cell_type": "code",
   "execution_count": 21,
   "id": "59305715",
   "metadata": {},
   "outputs": [
    {
     "name": "stderr",
     "output_type": "stream",
     "text": [
      "C:\\Users\\PC\\AppData\\Local\\Temp\\ipykernel_2580\\1669088430.py:2: FutureWarning: The default value of regex will change from True to False in a future version.\n",
      "  df['Message'] = df['Message'].str.replace(r'@\\d+', '');\n"
     ]
    }
   ],
   "source": [
    "# remove phone numbers starting with \"@\"\n",
    "df['Message'] = df['Message'].str.replace(r'@\\d+', '');"
   ]
  },
  {
   "cell_type": "code",
   "execution_count": 22,
   "id": "da1780b3",
   "metadata": {},
   "outputs": [
    {
     "name": "stderr",
     "output_type": "stream",
     "text": [
      "C:\\Users\\PC\\AppData\\Local\\Temp\\ipykernel_2580\\1222295757.py:2: FutureWarning: The default value of regex will change from True to False in a future version.\n",
      "  df[\"Message\"]=df[\"Message\"].str.replace(\"[^\\w\\s]\",\"\")\n"
     ]
    }
   ],
   "source": [
    "#remove special character\n",
    "df[\"Message\"]=df[\"Message\"].str.replace(\"[^\\w\\s]\",\"\")"
   ]
  },
  {
   "cell_type": "code",
   "execution_count": 23,
   "id": "7483efb4",
   "metadata": {},
   "outputs": [
    {
     "data": {
      "image/png": "[encoded data removed]",
      "text/plain": [
       "<Figure size 864x432 with 1 Axes>"
      ]
     },
     "metadata": {
      "needs_background": "light"
     },
     "output_type": "display_data"
    }
   ],
   "source": [
    "#A histogram showing the level of participation in the group\n",
    "plt.figure(figsize=(12,6))\n",
    "sns.histplot(df[\"Name\"]);"
   ]
  },
  {
   "cell_type": "code",
   "execution_count": 24,
   "id": "6d34595a",
   "metadata": {},
   "outputs": [
    {
     "data": {
      "text/plain": [
       "<Figure size 2160x720 with 0 Axes>"
      ]
     },
     "execution_count": 24,
     "metadata": {},
     "output_type": "execute_result"
    },
    {
     "data": {
      "image/png": "[encoded data removed]",
      "text/plain": [
       "<Figure size 432x288 with 1 Axes>"
      ]
     },
     "metadata": {},
     "output_type": "display_data"
    },
    {
     "data": {
      "text/plain": [
       "<Figure size 2160x720 with 0 Axes>"
      ]
     },
     "metadata": {},
     "output_type": "display_data"
    }
   ],
   "source": [
    "#lets view this using a pie chart to know the person with the highest percentage of participation\n",
    "fer=df[\"Name\"].value_counts(normalize=True,ascending=True)*100\n",
    "plt.pie(fer,labels=fer.index,autopct=\"%1.1f%%\",startangle=180)\n",
    "plt.figure(figsize=(30,10))"
   ]
  },
  {
   "cell_type": "code",
   "execution_count": 25,
   "id": "9a774aed",
   "metadata": {},
   "outputs": [
    {
     "ename": "NameError",
     "evalue": "name 'autotexts' is not defined",
     "output_type": "error",
     "traceback": [
      "\u001b[1;31m---------------------------------------------------------------------------\u001b[0m",
      "\u001b[1;31mNameError\u001b[0m                                 Traceback (most recent call last)",
      "Input \u001b[1;32mIn [25]\u001b[0m, in \u001b[0;36m<cell line: 4>\u001b[1;34m()\u001b[0m\n\u001b[0;32m      2\u001b[0m plt\u001b[38;5;241m.\u001b[39mpie(fer, labels\u001b[38;5;241m=\u001b[39mfer\u001b[38;5;241m.\u001b[39mindex, wedgeprops\u001b[38;5;241m=\u001b[39m{\u001b[38;5;124m'\u001b[39m\u001b[38;5;124medgecolor\u001b[39m\u001b[38;5;124m'\u001b[39m: \u001b[38;5;124m'\u001b[39m\u001b[38;5;124myellow\u001b[39m\u001b[38;5;124m'\u001b[39m}, startangle\u001b[38;5;241m=\u001b[39m\u001b[38;5;241m180\u001b[39m, autopct\u001b[38;5;241m=\u001b[39m\u001b[38;5;124m'\u001b[39m\u001b[38;5;132;01m%1.0f\u001b[39;00m\u001b[38;5;132;01m%%\u001b[39;00m\u001b[38;5;124m'\u001b[39m,pctdistance\u001b[38;5;241m=\u001b[39m\u001b[38;5;241m0.85\u001b[39m)\n\u001b[0;32m      3\u001b[0m \u001b[38;5;66;03m# Set the color of the percentage values\u001b[39;00m\n\u001b[1;32m----> 4\u001b[0m \u001b[38;5;28;01mfor\u001b[39;00m autotext \u001b[38;5;129;01min\u001b[39;00m \u001b[43mautotexts\u001b[49m:\n\u001b[0;32m      5\u001b[0m     autotext\u001b[38;5;241m.\u001b[39mset_color(\u001b[38;5;124m'\u001b[39m\u001b[38;5;124mwhite\u001b[39m\u001b[38;5;124m'\u001b[39m)\n",
      "\u001b[1;31mNameError\u001b[0m: name 'autotexts' is not defined"
     ]
    },
    {
     "data": {
      "image/png": "[encoded data removed]",
      "text/plain": [
       "<Figure size 432x288 with 1 Axes>"
      ]
     },
     "metadata": {},
     "output_type": "display_data"
    }
   ],
   "source": [
    "# Create a doughnut pie chart\n",
    "plt.pie(fer, labels=fer.index, wedgeprops={'edgecolor': 'yellow'}, startangle=180, autopct='%1.0f%%',pctdistance=0.85)\n",
    "# Set the color of the percentage values\n",
    "for autotext in autotexts:\n",
    "    autotext.set_color('white')\n"
   ]
  },
  {
   "cell_type": "code",
   "execution_count": 26,
   "id": "dbcae229",
   "metadata": {},
   "outputs": [
    {
     "data": {
      "image/png": "[encoded data removed]",
      "text/plain": [
       "<Figure size 2160x720 with 1 Axes>"
      ]
     },
     "metadata": {},
     "output_type": "display_data"
    }
   ],
   "source": [
    "#viewing it through a doughnut pie chart\n",
    "plt.figure(figsize=(30,10))\n",
    "# Create a circle for the center of the chart\n",
    "my_circle = plt.Circle((0, 0), 0.7, color='white')\n",
    "\n",
    "# Create a doughnut pie chart\n",
    "wedges, texts, autotexts = plt.pie(fer, labels=fer.index, wedgeprops={'edgecolor': 'white'}, startangle=180,\n",
    "                                   autopct=lambda pct: '{:.1f}%'.format(pct), pctdistance=0.85)\n",
    "\n",
    "# Set the color of the percentage values\n",
    "for autotext in autotexts:\n",
    "    autotext.set_color('yellow')\n",
    "    autotext.set_fontweight('bold')\n",
    "# Add the circle to the center of the chart\n",
    "fig = plt.gcf()\n",
    "fig.gca().add_artist(my_circle);"
   ]
  },
  {
   "cell_type": "code",
   "execution_count": null,
   "id": "fca9bf1e",
   "metadata": {},
   "outputs": [],
   "source": []
  }
 ],
 "metadata": {
  "kernelspec": {
   "display_name": "Python 3 (ipykernel)",
   "language": "python",
   "name": "python3"
  },
  "language_info": {
   "codemirror_mode": {
    "name": "ipython",
    "version": 3
   },
   "file_extension": ".py",
   "mimetype": "text/x-python",
   "name": "python",
   "nbconvert_exporter": "python",
   "pygments_lexer": "ipython3",
   "version": "3.9.12"
  }
 },
 "nbformat": 4,
 "nbformat_minor": 5
}
